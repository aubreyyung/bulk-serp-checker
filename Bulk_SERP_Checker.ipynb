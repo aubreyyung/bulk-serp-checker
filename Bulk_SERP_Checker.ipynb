{
  "nbformat": 4,
  "nbformat_minor": 0,
  "metadata": {
    "colab": {
      "provenance": [],
      "authorship_tag": "ABX9TyN/jZzU7t3/72gEeGru3yWB",
      "include_colab_link": true
    },
    "kernelspec": {
      "name": "python3",
      "display_name": "Python 3"
    },
    "language_info": {
      "name": "python"
    }
  },
  "cells": [
    {
      "cell_type": "markdown",
      "metadata": {
        "id": "view-in-github",
        "colab_type": "text"
      },
      "source": [
        "<a href=\"https://colab.research.google.com/github/aubreyyung/python-seo/blob/main/Bulk_SERP_Checker.ipynb\" target=\"_parent\"><img src=\"https://colab.research.google.com/assets/colab-badge.svg\" alt=\"Open In Colab\"/></a>"
      ]
    },
    {
      "cell_type": "markdown",
      "source": [
        "## Bulk SERP Checker\n",
        "\n",
        "🦊 Created by [Aubrey Yung](https://aubreyyung.com/)\n"
      ],
      "metadata": {
        "id": "UMxaz9Juew6Y"
      }
    },
    {
      "cell_type": "code",
      "execution_count": null,
      "metadata": {
        "colab": {
          "base_uri": "https://localhost:8080/"
        },
        "id": "ixOAvV_nWn-i",
        "outputId": "1ddb5277-4fa6-4dfb-e247-d8cf6ef44632"
      },
      "outputs": [
        {
          "output_type": "stream",
          "name": "stdout",
          "text": [
            "SERP for what is keyword research:\n",
            "1. How to Do Keyword Research for SEO: A Beginner's Guide - https://blog.hubspot.com/marketing/how-to-do-keyword-research-ht\n",
            "2. What is Keyword Research? A Complete Guide - https://www.conductor.com/academy/keyword-research/\n",
            "3. What is Keyword Research & How Do I Get Started? - https://moz.com/learn/seo/what-is-keyword-research\n",
            "4. How to Do Keyword Research for SEO in 2024 - https://www.semrush.com/blog/keyword-research/\n",
            "5. Keyword research - https://en.wikipedia.org/wiki/Keyword_research\n",
            "6. How to Research Keywords: A Step-By-Step Guide for SEO - https://www.orbitmedia.com/blog/how-to-research-keywords-tips/\n",
            "7. How to Do Keyword Research for SEO - https://ahrefs.com/blog/keyword-research/\n",
            "8. What Is Keyword Research? Learn How It Works ... - Upgrow - https://www.upgrow.io/glossary/keyword-research\n",
            "9. Keyword Research for SEO: The Beginner's Guide [2024] - https://mangools.com/blog/keyword-research/\n",
            "10. What is Keyword Research? Definition And Tools - https://growhackscale.com/glossary/keyword-research\n",
            "\n",
            "\n",
            "SERP for keyword research tools:\n",
            "1. The 4 best free keyword research tools in 2024 - https://zapier.com/blog/best-keyword-research-tool/\n",
            "2. Free Keyword Tool | WordStream - https://www.wordstream.com/keywords\n",
            "3. The 10 Best Free Keyword Research Tools in 2024 - https://ahrefs.com/blog/free-keyword-research-tools/\n",
            "4. Free Keyword Research Tool by Backlinko - https://backlinko.com/tools/keyword\n",
            "5. Keyword Tool ⚠️ Google Keyword Planner【Search FREE】 - https://keywordtool.io/\n",
            "6. Free Keyword Research Tool from Wordtracker - https://www.wordtracker.com/\n",
            "7. Keyword Magic Tool - https://www.semrush.com/analytics/keywordmagic/\n",
            "8. Free Keyword Generator Tool: Find 100+ Keyword Ideas in ... - https://ahrefs.com/keyword-generator\n",
            "9. Find Your Campaign Keywords with Keyword Planner - https://ads.google.com/home/tools/keyword-planner/\n",
            "10. 17 BEST Keyword Research Tools for SEO [2024 Reviews] - https://backlinko.com/keyword-research-tools\n",
            "\n",
            "\n",
            "SERP for how to do keyword research:\n",
            "1. How to Do Keyword Research for SEO: A Beginner's Guide - https://blog.hubspot.com/marketing/how-to-do-keyword-research-ht\n",
            "2. How to Do Keyword Research for SEO - https://ahrefs.com/blog/keyword-research/\n",
            "3. How to do Keyword Research - https://mailchimp.com/resources/how-to-do-keyword-research/\n",
            "4. How to Do Keyword Research for SEO in 2024 - https://www.semrush.com/blog/keyword-research/\n",
            "5. Keyword Research [Beginner's Guide to SEO] - https://moz.com/beginners-guide-to-seo/keyword-research\n",
            "6. How to Do Keyword Research for SEO & PPC (Step-by-Step) - https://www.wordstream.com/blog/ws/2017/08/09/easy-keyword-research-guide\n",
            "7. Keyword Research for SEO: The Definitive Guide + Template - https://backlinko.com/keyword-research\n",
            "8. The 4 best free keyword research tools in 2024 - https://zapier.com/blog/best-keyword-research-tool/\n",
            "9. How To Do Keyword Research (+ Tips and Tools) - https://www.webfx.com/seo/learn/how-to-do-keyword-research/\n",
            "\n",
            "\n"
          ]
        }
      ],
      "source": [
        "import requests\n",
        "from bs4 import BeautifulSoup\n",
        "import pandas as pd\n",
        "from urllib.parse import urlparse\n",
        "\n",
        "# Define your list of keywords\n",
        "keywords = [\"what is keyword research\", \"keyword research tools\", \"how to do keyword research\"]\n",
        "\n",
        "# Function to scrape Google SERP for a keyword\n",
        "def scrape_serp(keyword):\n",
        "    query = keyword.replace(\" \", \"+\")\n",
        "    url = f\"https://www.google.com/search?q={query}&num=10\"\n",
        "\n",
        "    # Add a user-agent to avoid being blocked\n",
        "    headers = {\n",
        "        \"User-Agent\": \"Mozilla/5.0 (Windows NT 10.0; Win64; x64) AppleWebKit/537.36 (KHTML, like Gecko) Chrome/91.0.4472.124 Safari/537.36\"\n",
        "    }\n",
        "\n",
        "    response = requests.get(url, headers=headers)\n",
        "    soup = BeautifulSoup(response.text, 'html.parser')\n",
        "\n",
        "    results = []\n",
        "    for g in soup.find_all('div', class_='g'):\n",
        "        try:\n",
        "            link = g.find('a')['href']\n",
        "            title = g.find('h3').text\n",
        "            # Extract domain from the link\n",
        "            domain = urlparse(link).netloc\n",
        "            results.append({'title': title, 'link': link, 'domain': domain})\n",
        "        except Exception as e:\n",
        "            continue\n",
        "    return results\n",
        "\n",
        "# List to store all results\n",
        "all_results = []\n",
        "\n",
        "# Loop through each keyword and print the top 10 URLs\n",
        "for keyword in keywords:\n",
        "    print(f\"SERP for {keyword}:\")\n",
        "    serp_results = scrape_serp(keyword)\n",
        "    for idx, result in enumerate(serp_results):\n",
        "        # Add position to the result\n",
        "        result['position'] = idx + 1\n",
        "        result['keyword'] = keyword\n",
        "        print(f\"{idx + 1}. {result['title']} - {result['link']}\")\n",
        "        all_results.append(result)\n",
        "    print(\"\\n\")\n",
        "\n",
        "# Create a DataFrame\n",
        "df = pd.DataFrame(all_results)\n",
        "df = df[['keyword', 'position', 'link', 'title']]\n",
        "\n",
        "# Save to CSV\n",
        "df.to_csv('search_results.csv', index=False)"
      ]
    },
    {
      "cell_type": "code",
      "source": [
        "# Download the result as csv.\n",
        "\n",
        "from google.colab import files\n",
        "\n",
        "# Check the csv_file name should match what you've saved above\n",
        "csv_file = \"search_results.csv\"\n",
        "files.download(csv_file)"
      ],
      "metadata": {
        "colab": {
          "base_uri": "https://localhost:8080/",
          "height": 17
        },
        "id": "oc7u_8HxYQnq",
        "outputId": "8beedf1f-1336-42e0-a20c-a715bee2a138"
      },
      "execution_count": null,
      "outputs": [
        {
          "output_type": "display_data",
          "data": {
            "text/plain": [
              "<IPython.core.display.Javascript object>"
            ],
            "application/javascript": [
              "\n",
              "    async function download(id, filename, size) {\n",
              "      if (!google.colab.kernel.accessAllowed) {\n",
              "        return;\n",
              "      }\n",
              "      const div = document.createElement('div');\n",
              "      const label = document.createElement('label');\n",
              "      label.textContent = `Downloading \"${filename}\": `;\n",
              "      div.appendChild(label);\n",
              "      const progress = document.createElement('progress');\n",
              "      progress.max = size;\n",
              "      div.appendChild(progress);\n",
              "      document.body.appendChild(div);\n",
              "\n",
              "      const buffers = [];\n",
              "      let downloaded = 0;\n",
              "\n",
              "      const channel = await google.colab.kernel.comms.open(id);\n",
              "      // Send a message to notify the kernel that we're ready.\n",
              "      channel.send({})\n",
              "\n",
              "      for await (const message of channel.messages) {\n",
              "        // Send a message to notify the kernel that we're ready.\n",
              "        channel.send({})\n",
              "        if (message.buffers) {\n",
              "          for (const buffer of message.buffers) {\n",
              "            buffers.push(buffer);\n",
              "            downloaded += buffer.byteLength;\n",
              "            progress.value = downloaded;\n",
              "          }\n",
              "        }\n",
              "      }\n",
              "      const blob = new Blob(buffers, {type: 'application/binary'});\n",
              "      const a = document.createElement('a');\n",
              "      a.href = window.URL.createObjectURL(blob);\n",
              "      a.download = filename;\n",
              "      div.appendChild(a);\n",
              "      a.click();\n",
              "      div.remove();\n",
              "    }\n",
              "  "
            ]
          },
          "metadata": {}
        },
        {
          "output_type": "display_data",
          "data": {
            "text/plain": [
              "<IPython.core.display.Javascript object>"
            ],
            "application/javascript": [
              "download(\"download_157c33bc-4997-43a2-8d5b-3d64787e8091\", \"search_results.csv\", 3546)"
            ]
          },
          "metadata": {}
        }
      ]
    }
  ]
}